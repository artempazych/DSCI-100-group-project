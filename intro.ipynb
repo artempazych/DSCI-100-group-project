{
 "cells": [
  {
   "cell_type": "markdown",
   "id": "08d38572-ae54-4bcf-b0ea-4e49b8408e4e",
   "metadata": {},
   "source": [
    "### Introduction\n",
    "\n",
    "Globally, the frequency and variety of reported fraud are increasing in the financial market. Companies that resort to unfair practices without fear of legal repercussions can have serious economic and social consequences [1]. Over the past few decades, some large corporations have gone out of business due to fraud and a huge number of investors suffer from fraud. \n",
    "\n",
    "Therefore, Auditors who are devoted to predicting fraudulent firms on the basis of the present and historical risk factors, become more vital. Audit includes the internal audit and external audit. Auditing includes internal auditing and external auditing, what we will research is external auditing, they are independent of any company and are hired to assess whether a company's financial records match its business activities, and to express their opinion about the company Whether there is any action of financial fraud. \n",
    "\n",
    "In addition, data science plays an increasingly significant role in audits today, which can provide more robust planning analytics to assist audits, be able to test complete data sets, more comprehensive analysis of audit evidence, and save time performing audit procedures on-site [2].\n",
    "\n",
    "Therefore, we choose this database as our project resource and our project purpose is to check whether this data set can help us correctly predict the risk of fraud for every company. We can download audit data.zip from the given webs. The data set we are going to analyze is a classification model which includes a variety of examined risk factors, like past records of, the audit office, audit paras, ongoing issues reports, profit-value records, loss-value records, and follow-up reports in the case study. \n",
    "\n",
    "For our project, we are going to make two models and compare them in the discussion, by using the discrepancy found in the planned, and unplanned expenditure of the target unit, the amount of money involved in them, also their summary reports as well as risk scores. \n",
    "\n",
    "### Reference\n",
    "1.Fraudulent Firm Classification: A Case Study of an External Audit, Nishtha Hooda,Seema Bawa,Prashant Singh Rana, Pages 48-64 post online April 06 2018. https://doi.org/10.1080/08839514.2018.1451032\n",
    "\n",
    "2.Data analytics helps auditors gain deep insight, by Maria L. Murphy, CPA, and Ken Tysiac,April 13 2015. https://www.journalofaccountancy.com/issues/2015/apr/data-analytics-for-auditors.html"
   ]
  },
  {
   "cell_type": "code",
   "execution_count": null,
   "id": "6ced59b2-ff37-46ae-a90b-8645f06e8940",
   "metadata": {},
   "outputs": [],
   "source": []
  }
 ],
 "metadata": {
  "kernelspec": {
   "display_name": "R",
   "language": "R",
   "name": "ir"
  },
  "language_info": {
   "codemirror_mode": "r",
   "file_extension": ".r",
   "mimetype": "text/x-r-source",
   "name": "R",
   "pygments_lexer": "r",
   "version": "4.1.3"
  }
 },
 "nbformat": 4,
 "nbformat_minor": 5
}
